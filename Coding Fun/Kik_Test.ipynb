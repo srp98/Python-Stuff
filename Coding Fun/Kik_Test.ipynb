{
 "cells": [
  {
   "cell_type": "markdown",
   "metadata": {
    "collapsed": true
   },
   "source": [
    "# Kik Interactive Simple Test\n",
    "\n",
    "Given the following set of numbers `{49, 8, 48, 15, 47, 4, 16, 23, 43, 44, 42, 45, 46}`. \n",
    "A function picks a random subset of size 6, and returns the minimum of that subset. \n",
    "What is the expected value of this function?"
   ]
  },
  {
   "cell_type": "markdown",
   "metadata": {},
   "source": [
    "Lets import random library to do the ramdom sampling for us."
   ]
  },
  {
   "cell_type": "code",
   "execution_count": 1,
   "metadata": {},
   "outputs": [
    {
     "data": {
      "text/plain": [
       "{4, 8, 15, 16, 23, 42, 43, 44, 45, 46, 47, 48, 49}"
      ]
     },
     "execution_count": 1,
     "metadata": {},
     "output_type": "execute_result"
    }
   ],
   "source": [
    "import random\n",
    "\n",
    "# Define the set given\n",
    "s = {49, 8, 48, 15, 47, 4, 16, 23, 43, 44, 42, 45, 46}\n",
    "s"
   ]
  },
  {
   "cell_type": "markdown",
   "metadata": {},
   "source": [
    "Since its a set it gets sorted out and duplicates are removed from it when printing them out.\n",
    "\n",
    "Now, define the function that does the random sampling and returns the minimum of the subset."
   ]
  },
  {
   "cell_type": "code",
   "execution_count": 2,
   "metadata": {},
   "outputs": [],
   "source": [
    "# Our Function\n",
    "def min_rand(x):\n",
    "    return min(random.sample(x, 6))"
   ]
  },
  {
   "cell_type": "code",
   "execution_count": 3,
   "metadata": {},
   "outputs": [
    {
     "data": {
      "text/plain": [
       "4"
      ]
     },
     "execution_count": 3,
     "metadata": {},
     "output_type": "execute_result"
    }
   ],
   "source": [
    "# Expected Outcome\n",
    "min_rand(s)"
   ]
  }
 ],
 "metadata": {
  "kernelspec": {
   "display_name": "Python 2",
   "language": "python",
   "name": "python2"
  },
  "language_info": {
   "codemirror_mode": {
    "name": "ipython",
    "version": 2
   },
   "file_extension": ".py",
   "mimetype": "text/x-python",
   "name": "python",
   "nbconvert_exporter": "python",
   "pygments_lexer": "ipython2",
   "version": "2.7.6"
  }
 },
 "nbformat": 4,
 "nbformat_minor": 0
}
